{
 "cells": [
  {
   "cell_type": "markdown",
   "id": "b7d0354e",
   "metadata": {},
   "source": [
    "# Employees Data"
   ]
  },
  {
   "cell_type": "code",
   "execution_count": 77,
   "id": "9b5d0616",
   "metadata": {},
   "outputs": [],
   "source": [
    "import pandas as pd\n",
    "import numpy as np\n",
    "from sqlalchemy import create_engine\n",
    "from datetime import datetime"
   ]
  },
  {
   "cell_type": "code",
   "execution_count": 29,
   "id": "9ff82100",
   "metadata": {},
   "outputs": [],
   "source": [
    "csv1 = \"../Data/departments.csv\"\n",
    "csv2 = \"../Data/dept_emp.csv\"\n",
    "csv3 = \"../Data/dept_manager.csv\"\n",
    "csv4 = \"../Data/employees.csv\"\n",
    "csv5 = \"../Data/salaries.csv\"\n",
    "csv6 = \"../Data/titles.csv\""
   ]
  },
  {
   "cell_type": "markdown",
   "id": "bb55177f",
   "metadata": {},
   "source": [
    "## Data Engineering"
   ]
  },
  {
   "cell_type": "markdown",
   "id": "a258d900",
   "metadata": {},
   "source": [
    "### Check CSVs\n",
    "* checking if \"id\" column values are unique, \n",
    "* looking for duplicates, \n",
    "* check if any table needs composite keys, etc."
   ]
  },
  {
   "cell_type": "code",
   "execution_count": 30,
   "id": "fe1b43fa",
   "metadata": {},
   "outputs": [
    {
     "data": {
      "text/html": [
       "<div>\n",
       "<style scoped>\n",
       "    .dataframe tbody tr th:only-of-type {\n",
       "        vertical-align: middle;\n",
       "    }\n",
       "\n",
       "    .dataframe tbody tr th {\n",
       "        vertical-align: top;\n",
       "    }\n",
       "\n",
       "    .dataframe thead th {\n",
       "        text-align: right;\n",
       "    }\n",
       "</style>\n",
       "<table border=\"1\" class=\"dataframe\">\n",
       "  <thead>\n",
       "    <tr style=\"text-align: right;\">\n",
       "      <th></th>\n",
       "      <th>dept_no</th>\n",
       "      <th>dept_name</th>\n",
       "    </tr>\n",
       "  </thead>\n",
       "  <tbody>\n",
       "    <tr>\n",
       "      <th>0</th>\n",
       "      <td>d001</td>\n",
       "      <td>Marketing</td>\n",
       "    </tr>\n",
       "    <tr>\n",
       "      <th>1</th>\n",
       "      <td>d002</td>\n",
       "      <td>Finance</td>\n",
       "    </tr>\n",
       "    <tr>\n",
       "      <th>2</th>\n",
       "      <td>d003</td>\n",
       "      <td>Human Resources</td>\n",
       "    </tr>\n",
       "    <tr>\n",
       "      <th>3</th>\n",
       "      <td>d004</td>\n",
       "      <td>Production</td>\n",
       "    </tr>\n",
       "    <tr>\n",
       "      <th>4</th>\n",
       "      <td>d005</td>\n",
       "      <td>Development</td>\n",
       "    </tr>\n",
       "    <tr>\n",
       "      <th>5</th>\n",
       "      <td>d006</td>\n",
       "      <td>Quality Management</td>\n",
       "    </tr>\n",
       "    <tr>\n",
       "      <th>6</th>\n",
       "      <td>d007</td>\n",
       "      <td>Sales</td>\n",
       "    </tr>\n",
       "    <tr>\n",
       "      <th>7</th>\n",
       "      <td>d008</td>\n",
       "      <td>Research</td>\n",
       "    </tr>\n",
       "    <tr>\n",
       "      <th>8</th>\n",
       "      <td>d009</td>\n",
       "      <td>Customer Service</td>\n",
       "    </tr>\n",
       "  </tbody>\n",
       "</table>\n",
       "</div>"
      ],
      "text/plain": [
       "  dept_no           dept_name\n",
       "0    d001           Marketing\n",
       "1    d002             Finance\n",
       "2    d003     Human Resources\n",
       "3    d004          Production\n",
       "4    d005         Development\n",
       "5    d006  Quality Management\n",
       "6    d007               Sales\n",
       "7    d008            Research\n",
       "8    d009    Customer Service"
      ]
     },
     "execution_count": 30,
     "metadata": {},
     "output_type": "execute_result"
    }
   ],
   "source": [
    "data_dep = pd.read_csv(csv1)\n",
    "data_dep"
   ]
  },
  {
   "cell_type": "code",
   "execution_count": 31,
   "id": "85396315",
   "metadata": {
    "scrolled": true
   },
   "outputs": [
    {
     "data": {
      "text/html": [
       "<div>\n",
       "<style scoped>\n",
       "    .dataframe tbody tr th:only-of-type {\n",
       "        vertical-align: middle;\n",
       "    }\n",
       "\n",
       "    .dataframe tbody tr th {\n",
       "        vertical-align: top;\n",
       "    }\n",
       "\n",
       "    .dataframe thead th {\n",
       "        text-align: right;\n",
       "    }\n",
       "</style>\n",
       "<table border=\"1\" class=\"dataframe\">\n",
       "  <thead>\n",
       "    <tr style=\"text-align: right;\">\n",
       "      <th></th>\n",
       "      <th>emp_no</th>\n",
       "      <th>dept_no</th>\n",
       "    </tr>\n",
       "  </thead>\n",
       "  <tbody>\n",
       "    <tr>\n",
       "      <th>0</th>\n",
       "      <td>10001</td>\n",
       "      <td>d005</td>\n",
       "    </tr>\n",
       "    <tr>\n",
       "      <th>1</th>\n",
       "      <td>10002</td>\n",
       "      <td>d007</td>\n",
       "    </tr>\n",
       "    <tr>\n",
       "      <th>2</th>\n",
       "      <td>10003</td>\n",
       "      <td>d004</td>\n",
       "    </tr>\n",
       "    <tr>\n",
       "      <th>3</th>\n",
       "      <td>10004</td>\n",
       "      <td>d004</td>\n",
       "    </tr>\n",
       "    <tr>\n",
       "      <th>4</th>\n",
       "      <td>10005</td>\n",
       "      <td>d003</td>\n",
       "    </tr>\n",
       "    <tr>\n",
       "      <th>...</th>\n",
       "      <td>...</td>\n",
       "      <td>...</td>\n",
       "    </tr>\n",
       "    <tr>\n",
       "      <th>331598</th>\n",
       "      <td>499995</td>\n",
       "      <td>d004</td>\n",
       "    </tr>\n",
       "    <tr>\n",
       "      <th>331599</th>\n",
       "      <td>499996</td>\n",
       "      <td>d004</td>\n",
       "    </tr>\n",
       "    <tr>\n",
       "      <th>331600</th>\n",
       "      <td>499997</td>\n",
       "      <td>d005</td>\n",
       "    </tr>\n",
       "    <tr>\n",
       "      <th>331601</th>\n",
       "      <td>499998</td>\n",
       "      <td>d002</td>\n",
       "    </tr>\n",
       "    <tr>\n",
       "      <th>331602</th>\n",
       "      <td>499999</td>\n",
       "      <td>d004</td>\n",
       "    </tr>\n",
       "  </tbody>\n",
       "</table>\n",
       "<p>331603 rows × 2 columns</p>\n",
       "</div>"
      ],
      "text/plain": [
       "        emp_no dept_no\n",
       "0        10001    d005\n",
       "1        10002    d007\n",
       "2        10003    d004\n",
       "3        10004    d004\n",
       "4        10005    d003\n",
       "...        ...     ...\n",
       "331598  499995    d004\n",
       "331599  499996    d004\n",
       "331600  499997    d005\n",
       "331601  499998    d002\n",
       "331602  499999    d004\n",
       "\n",
       "[331603 rows x 2 columns]"
      ]
     },
     "execution_count": 31,
     "metadata": {},
     "output_type": "execute_result"
    }
   ],
   "source": [
    "data_emp_dep = pd.read_csv(csv2)\n",
    "data_emp_dep "
   ]
  },
  {
   "cell_type": "code",
   "execution_count": 32,
   "id": "20f98f46",
   "metadata": {},
   "outputs": [
    {
     "data": {
      "text/plain": [
       "False"
      ]
     },
     "execution_count": 32,
     "metadata": {},
     "output_type": "execute_result"
    }
   ],
   "source": [
    "# checking if emp_no is unique   ### FALSE \n",
    "data_emp_dep[\"emp_no\"].count() == data_emp_dep[\"emp_no\"].nunique()"
   ]
  },
  {
   "cell_type": "code",
   "execution_count": 33,
   "id": "fbbdc876",
   "metadata": {},
   "outputs": [
    {
     "data": {
      "text/plain": [
       "331603"
      ]
     },
     "execution_count": 33,
     "metadata": {},
     "output_type": "execute_result"
    }
   ],
   "source": [
    "data_emp_dep[\"emp_no\"].count()"
   ]
  },
  {
   "cell_type": "code",
   "execution_count": 34,
   "id": "708b9140",
   "metadata": {},
   "outputs": [
    {
     "data": {
      "text/plain": [
       "300024"
      ]
     },
     "execution_count": 34,
     "metadata": {},
     "output_type": "execute_result"
    }
   ],
   "source": [
    "data_emp_dep[\"emp_no\"].nunique()"
   ]
  },
  {
   "cell_type": "code",
   "execution_count": 35,
   "id": "5b59fbe9",
   "metadata": {
    "scrolled": true
   },
   "outputs": [],
   "source": [
    "group_emp = data_emp_dep.groupby(by=\"emp_no\").count()"
   ]
  },
  {
   "cell_type": "code",
   "execution_count": 36,
   "id": "4b375bdc",
   "metadata": {},
   "outputs": [],
   "source": [
    "group_emp=group_emp.reset_index()"
   ]
  },
  {
   "cell_type": "code",
   "execution_count": 37,
   "id": "f0661232",
   "metadata": {
    "scrolled": true
   },
   "outputs": [
    {
     "data": {
      "text/html": [
       "<div>\n",
       "<style scoped>\n",
       "    .dataframe tbody tr th:only-of-type {\n",
       "        vertical-align: middle;\n",
       "    }\n",
       "\n",
       "    .dataframe tbody tr th {\n",
       "        vertical-align: top;\n",
       "    }\n",
       "\n",
       "    .dataframe thead th {\n",
       "        text-align: right;\n",
       "    }\n",
       "</style>\n",
       "<table border=\"1\" class=\"dataframe\">\n",
       "  <thead>\n",
       "    <tr style=\"text-align: right;\">\n",
       "      <th></th>\n",
       "      <th>emp_no</th>\n",
       "      <th>dept_no</th>\n",
       "    </tr>\n",
       "  </thead>\n",
       "  <tbody>\n",
       "    <tr>\n",
       "      <th>9</th>\n",
       "      <td>10010</td>\n",
       "      <td>2</td>\n",
       "    </tr>\n",
       "    <tr>\n",
       "      <th>17</th>\n",
       "      <td>10018</td>\n",
       "      <td>2</td>\n",
       "    </tr>\n",
       "    <tr>\n",
       "      <th>28</th>\n",
       "      <td>10029</td>\n",
       "      <td>2</td>\n",
       "    </tr>\n",
       "    <tr>\n",
       "      <th>39</th>\n",
       "      <td>10040</td>\n",
       "      <td>2</td>\n",
       "    </tr>\n",
       "    <tr>\n",
       "      <th>49</th>\n",
       "      <td>10050</td>\n",
       "      <td>2</td>\n",
       "    </tr>\n",
       "    <tr>\n",
       "      <th>...</th>\n",
       "      <td>...</td>\n",
       "      <td>...</td>\n",
       "    </tr>\n",
       "    <tr>\n",
       "      <th>299979</th>\n",
       "      <td>499955</td>\n",
       "      <td>2</td>\n",
       "    </tr>\n",
       "    <tr>\n",
       "      <th>299988</th>\n",
       "      <td>499964</td>\n",
       "      <td>2</td>\n",
       "    </tr>\n",
       "    <tr>\n",
       "      <th>299999</th>\n",
       "      <td>499975</td>\n",
       "      <td>2</td>\n",
       "    </tr>\n",
       "    <tr>\n",
       "      <th>300007</th>\n",
       "      <td>499983</td>\n",
       "      <td>2</td>\n",
       "    </tr>\n",
       "    <tr>\n",
       "      <th>300016</th>\n",
       "      <td>499992</td>\n",
       "      <td>2</td>\n",
       "    </tr>\n",
       "  </tbody>\n",
       "</table>\n",
       "<p>31579 rows × 2 columns</p>\n",
       "</div>"
      ],
      "text/plain": [
       "        emp_no  dept_no\n",
       "9        10010        2\n",
       "17       10018        2\n",
       "28       10029        2\n",
       "39       10040        2\n",
       "49       10050        2\n",
       "...        ...      ...\n",
       "299979  499955        2\n",
       "299988  499964        2\n",
       "299999  499975        2\n",
       "300007  499983        2\n",
       "300016  499992        2\n",
       "\n",
       "[31579 rows x 2 columns]"
      ]
     },
     "execution_count": 37,
     "metadata": {},
     "output_type": "execute_result"
    }
   ],
   "source": [
    "# looking for duplicated cases\n",
    "group_emp.loc[group_emp[\"dept_no\"] > 1, :]"
   ]
  },
  {
   "cell_type": "code",
   "execution_count": 38,
   "id": "e138fadd",
   "metadata": {},
   "outputs": [
    {
     "data": {
      "text/html": [
       "<div>\n",
       "<style scoped>\n",
       "    .dataframe tbody tr th:only-of-type {\n",
       "        vertical-align: middle;\n",
       "    }\n",
       "\n",
       "    .dataframe tbody tr th {\n",
       "        vertical-align: top;\n",
       "    }\n",
       "\n",
       "    .dataframe thead th {\n",
       "        text-align: right;\n",
       "    }\n",
       "</style>\n",
       "<table border=\"1\" class=\"dataframe\">\n",
       "  <thead>\n",
       "    <tr style=\"text-align: right;\">\n",
       "      <th></th>\n",
       "      <th>emp_no</th>\n",
       "      <th>dept_no</th>\n",
       "    </tr>\n",
       "  </thead>\n",
       "  <tbody>\n",
       "    <tr>\n",
       "      <th>18</th>\n",
       "      <td>10018</td>\n",
       "      <td>d004</td>\n",
       "    </tr>\n",
       "    <tr>\n",
       "      <th>19</th>\n",
       "      <td>10018</td>\n",
       "      <td>d005</td>\n",
       "    </tr>\n",
       "  </tbody>\n",
       "</table>\n",
       "</div>"
      ],
      "text/plain": [
       "    emp_no dept_no\n",
       "18   10018    d004\n",
       "19   10018    d005"
      ]
     },
     "execution_count": 38,
     "metadata": {},
     "output_type": "execute_result"
    }
   ],
   "source": [
    "# checking if duplicated employees have same dept or dif == DIF  /// create COMP KEY\n",
    "data_emp_dep.loc[data_emp_dep[\"emp_no\"] == 10018, :]"
   ]
  },
  {
   "cell_type": "code",
   "execution_count": 81,
   "id": "40ade281",
   "metadata": {},
   "outputs": [
    {
     "data": {
      "text/html": [
       "<div>\n",
       "<style scoped>\n",
       "    .dataframe tbody tr th:only-of-type {\n",
       "        vertical-align: middle;\n",
       "    }\n",
       "\n",
       "    .dataframe tbody tr th {\n",
       "        vertical-align: top;\n",
       "    }\n",
       "\n",
       "    .dataframe thead th {\n",
       "        text-align: right;\n",
       "    }\n",
       "</style>\n",
       "<table border=\"1\" class=\"dataframe\">\n",
       "  <thead>\n",
       "    <tr style=\"text-align: right;\">\n",
       "      <th></th>\n",
       "      <th>dept_no</th>\n",
       "      <th>emp_no</th>\n",
       "    </tr>\n",
       "  </thead>\n",
       "  <tbody>\n",
       "    <tr>\n",
       "      <th>0</th>\n",
       "      <td>d001</td>\n",
       "      <td>110022</td>\n",
       "    </tr>\n",
       "    <tr>\n",
       "      <th>1</th>\n",
       "      <td>d001</td>\n",
       "      <td>110039</td>\n",
       "    </tr>\n",
       "    <tr>\n",
       "      <th>2</th>\n",
       "      <td>d002</td>\n",
       "      <td>110085</td>\n",
       "    </tr>\n",
       "    <tr>\n",
       "      <th>3</th>\n",
       "      <td>d002</td>\n",
       "      <td>110114</td>\n",
       "    </tr>\n",
       "    <tr>\n",
       "      <th>4</th>\n",
       "      <td>d003</td>\n",
       "      <td>110183</td>\n",
       "    </tr>\n",
       "  </tbody>\n",
       "</table>\n",
       "</div>"
      ],
      "text/plain": [
       "  dept_no  emp_no\n",
       "0    d001  110022\n",
       "1    d001  110039\n",
       "2    d002  110085\n",
       "3    d002  110114\n",
       "4    d003  110183"
      ]
     },
     "execution_count": 81,
     "metadata": {},
     "output_type": "execute_result"
    }
   ],
   "source": [
    "data_dept_manager = pd.read_csv(csv3)\n",
    "data_dept_manager.head()"
   ]
  },
  {
   "cell_type": "code",
   "execution_count": 40,
   "id": "42992f4e",
   "metadata": {},
   "outputs": [
    {
     "data": {
      "text/plain": [
       "True"
      ]
     },
     "execution_count": 40,
     "metadata": {},
     "output_type": "execute_result"
    }
   ],
   "source": [
    "# checking if emp_no is unique\n",
    "data_dept_manager[\"emp_no\"].count() == data_dept_manager[\"emp_no\"].nunique()"
   ]
  },
  {
   "cell_type": "code",
   "execution_count": 41,
   "id": "5e3cfc1e",
   "metadata": {},
   "outputs": [
    {
     "data": {
      "text/html": [
       "<div>\n",
       "<style scoped>\n",
       "    .dataframe tbody tr th:only-of-type {\n",
       "        vertical-align: middle;\n",
       "    }\n",
       "\n",
       "    .dataframe tbody tr th {\n",
       "        vertical-align: top;\n",
       "    }\n",
       "\n",
       "    .dataframe thead th {\n",
       "        text-align: right;\n",
       "    }\n",
       "</style>\n",
       "<table border=\"1\" class=\"dataframe\">\n",
       "  <thead>\n",
       "    <tr style=\"text-align: right;\">\n",
       "      <th></th>\n",
       "      <th>emp_no</th>\n",
       "      <th>emp_title_id</th>\n",
       "      <th>birth_date</th>\n",
       "      <th>first_name</th>\n",
       "      <th>last_name</th>\n",
       "      <th>sex</th>\n",
       "      <th>hire_date</th>\n",
       "    </tr>\n",
       "  </thead>\n",
       "  <tbody>\n",
       "    <tr>\n",
       "      <th>0</th>\n",
       "      <td>473302</td>\n",
       "      <td>s0001</td>\n",
       "      <td>7/25/1953</td>\n",
       "      <td>Hideyuki</td>\n",
       "      <td>Zallocco</td>\n",
       "      <td>M</td>\n",
       "      <td>4/28/1990</td>\n",
       "    </tr>\n",
       "    <tr>\n",
       "      <th>1</th>\n",
       "      <td>475053</td>\n",
       "      <td>e0002</td>\n",
       "      <td>11/18/1954</td>\n",
       "      <td>Byong</td>\n",
       "      <td>Delgrande</td>\n",
       "      <td>F</td>\n",
       "      <td>9/7/1991</td>\n",
       "    </tr>\n",
       "    <tr>\n",
       "      <th>2</th>\n",
       "      <td>57444</td>\n",
       "      <td>e0002</td>\n",
       "      <td>1/30/1958</td>\n",
       "      <td>Berry</td>\n",
       "      <td>Babb</td>\n",
       "      <td>F</td>\n",
       "      <td>3/21/1992</td>\n",
       "    </tr>\n",
       "    <tr>\n",
       "      <th>3</th>\n",
       "      <td>421786</td>\n",
       "      <td>s0001</td>\n",
       "      <td>9/28/1957</td>\n",
       "      <td>Xiong</td>\n",
       "      <td>Verhoeff</td>\n",
       "      <td>M</td>\n",
       "      <td>11/26/1987</td>\n",
       "    </tr>\n",
       "    <tr>\n",
       "      <th>4</th>\n",
       "      <td>282238</td>\n",
       "      <td>e0003</td>\n",
       "      <td>10/28/1952</td>\n",
       "      <td>Abdelkader</td>\n",
       "      <td>Baumann</td>\n",
       "      <td>F</td>\n",
       "      <td>1/18/1991</td>\n",
       "    </tr>\n",
       "    <tr>\n",
       "      <th>...</th>\n",
       "      <td>...</td>\n",
       "      <td>...</td>\n",
       "      <td>...</td>\n",
       "      <td>...</td>\n",
       "      <td>...</td>\n",
       "      <td>...</td>\n",
       "      <td>...</td>\n",
       "    </tr>\n",
       "    <tr>\n",
       "      <th>300019</th>\n",
       "      <td>464231</td>\n",
       "      <td>s0001</td>\n",
       "      <td>8/14/1958</td>\n",
       "      <td>Constantino</td>\n",
       "      <td>Eastman</td>\n",
       "      <td>M</td>\n",
       "      <td>10/28/1988</td>\n",
       "    </tr>\n",
       "    <tr>\n",
       "      <th>300020</th>\n",
       "      <td>255832</td>\n",
       "      <td>e0002</td>\n",
       "      <td>5/8/1955</td>\n",
       "      <td>Yuping</td>\n",
       "      <td>Dayang</td>\n",
       "      <td>F</td>\n",
       "      <td>2/26/1995</td>\n",
       "    </tr>\n",
       "    <tr>\n",
       "      <th>300021</th>\n",
       "      <td>76671</td>\n",
       "      <td>s0001</td>\n",
       "      <td>6/9/1959</td>\n",
       "      <td>Ortrud</td>\n",
       "      <td>Plessier</td>\n",
       "      <td>M</td>\n",
       "      <td>2/24/1988</td>\n",
       "    </tr>\n",
       "    <tr>\n",
       "      <th>300022</th>\n",
       "      <td>264920</td>\n",
       "      <td>s0001</td>\n",
       "      <td>9/22/1959</td>\n",
       "      <td>Percy</td>\n",
       "      <td>Samarati</td>\n",
       "      <td>F</td>\n",
       "      <td>9/8/1994</td>\n",
       "    </tr>\n",
       "    <tr>\n",
       "      <th>300023</th>\n",
       "      <td>464503</td>\n",
       "      <td>s0002</td>\n",
       "      <td>5/31/1964</td>\n",
       "      <td>Arvind</td>\n",
       "      <td>Slobodova</td>\n",
       "      <td>M</td>\n",
       "      <td>11/23/1987</td>\n",
       "    </tr>\n",
       "  </tbody>\n",
       "</table>\n",
       "<p>300024 rows × 7 columns</p>\n",
       "</div>"
      ],
      "text/plain": [
       "        emp_no emp_title_id  birth_date   first_name  last_name sex  \\\n",
       "0       473302        s0001   7/25/1953     Hideyuki   Zallocco   M   \n",
       "1       475053        e0002  11/18/1954        Byong  Delgrande   F   \n",
       "2        57444        e0002   1/30/1958        Berry       Babb   F   \n",
       "3       421786        s0001   9/28/1957        Xiong   Verhoeff   M   \n",
       "4       282238        e0003  10/28/1952   Abdelkader    Baumann   F   \n",
       "...        ...          ...         ...          ...        ...  ..   \n",
       "300019  464231        s0001   8/14/1958  Constantino    Eastman   M   \n",
       "300020  255832        e0002    5/8/1955       Yuping     Dayang   F   \n",
       "300021   76671        s0001    6/9/1959       Ortrud   Plessier   M   \n",
       "300022  264920        s0001   9/22/1959        Percy   Samarati   F   \n",
       "300023  464503        s0002   5/31/1964       Arvind  Slobodova   M   \n",
       "\n",
       "         hire_date  \n",
       "0        4/28/1990  \n",
       "1         9/7/1991  \n",
       "2        3/21/1992  \n",
       "3       11/26/1987  \n",
       "4        1/18/1991  \n",
       "...            ...  \n",
       "300019  10/28/1988  \n",
       "300020   2/26/1995  \n",
       "300021   2/24/1988  \n",
       "300022    9/8/1994  \n",
       "300023  11/23/1987  \n",
       "\n",
       "[300024 rows x 7 columns]"
      ]
     },
     "execution_count": 41,
     "metadata": {},
     "output_type": "execute_result"
    }
   ],
   "source": [
    "data_emp = pd.read_csv(csv4)\n",
    "data_emp"
   ]
  },
  {
   "cell_type": "code",
   "execution_count": 42,
   "id": "70a86a3c",
   "metadata": {},
   "outputs": [
    {
     "data": {
      "text/plain": [
       "True"
      ]
     },
     "execution_count": 42,
     "metadata": {},
     "output_type": "execute_result"
    }
   ],
   "source": [
    "# checking if emp_no is unique\n",
    "data_emp[\"emp_no\"].count() == data_emp[\"emp_no\"].nunique()"
   ]
  },
  {
   "cell_type": "code",
   "execution_count": 70,
   "id": "beb1abfd",
   "metadata": {
    "scrolled": true
   },
   "outputs": [
    {
     "data": {
      "text/plain": [
       "emp_no           int64\n",
       "emp_title_id    object\n",
       "birth_date      object\n",
       "first_name      object\n",
       "last_name       object\n",
       "sex             object\n",
       "hire_date       object\n",
       "dtype: object"
      ]
     },
     "execution_count": 70,
     "metadata": {},
     "output_type": "execute_result"
    }
   ],
   "source": [
    "data_emp.dtypes"
   ]
  },
  {
   "cell_type": "code",
   "execution_count": 73,
   "id": "45e97757",
   "metadata": {},
   "outputs": [],
   "source": [
    "data_emp['birth_date'] = pd.to_datetime(data_emp['birth_date'], infer_datetime_format=True)"
   ]
  },
  {
   "cell_type": "code",
   "execution_count": 74,
   "id": "3db9cd87",
   "metadata": {},
   "outputs": [],
   "source": [
    "data_emp['hire_date'] = pd.to_datetime(data_emp['hire_date'], infer_datetime_format=True)"
   ]
  },
  {
   "cell_type": "code",
   "execution_count": 75,
   "id": "b0e7620a",
   "metadata": {},
   "outputs": [
    {
     "data": {
      "text/plain": [
       "emp_no                   int64\n",
       "emp_title_id            object\n",
       "birth_date      datetime64[ns]\n",
       "first_name              object\n",
       "last_name               object\n",
       "sex                     object\n",
       "hire_date       datetime64[ns]\n",
       "dtype: object"
      ]
     },
     "execution_count": 75,
     "metadata": {},
     "output_type": "execute_result"
    }
   ],
   "source": [
    "data_emp.dtypes"
   ]
  },
  {
   "cell_type": "code",
   "execution_count": 43,
   "id": "f19c0253",
   "metadata": {
    "scrolled": true
   },
   "outputs": [
    {
     "data": {
      "text/html": [
       "<div>\n",
       "<style scoped>\n",
       "    .dataframe tbody tr th:only-of-type {\n",
       "        vertical-align: middle;\n",
       "    }\n",
       "\n",
       "    .dataframe tbody tr th {\n",
       "        vertical-align: top;\n",
       "    }\n",
       "\n",
       "    .dataframe thead th {\n",
       "        text-align: right;\n",
       "    }\n",
       "</style>\n",
       "<table border=\"1\" class=\"dataframe\">\n",
       "  <thead>\n",
       "    <tr style=\"text-align: right;\">\n",
       "      <th></th>\n",
       "      <th>emp_no</th>\n",
       "      <th>salary</th>\n",
       "    </tr>\n",
       "  </thead>\n",
       "  <tbody>\n",
       "    <tr>\n",
       "      <th>0</th>\n",
       "      <td>10001</td>\n",
       "      <td>60117</td>\n",
       "    </tr>\n",
       "    <tr>\n",
       "      <th>1</th>\n",
       "      <td>10002</td>\n",
       "      <td>65828</td>\n",
       "    </tr>\n",
       "    <tr>\n",
       "      <th>2</th>\n",
       "      <td>10003</td>\n",
       "      <td>40006</td>\n",
       "    </tr>\n",
       "    <tr>\n",
       "      <th>3</th>\n",
       "      <td>10004</td>\n",
       "      <td>40054</td>\n",
       "    </tr>\n",
       "    <tr>\n",
       "      <th>4</th>\n",
       "      <td>10005</td>\n",
       "      <td>78228</td>\n",
       "    </tr>\n",
       "    <tr>\n",
       "      <th>...</th>\n",
       "      <td>...</td>\n",
       "      <td>...</td>\n",
       "    </tr>\n",
       "    <tr>\n",
       "      <th>300019</th>\n",
       "      <td>499995</td>\n",
       "      <td>40000</td>\n",
       "    </tr>\n",
       "    <tr>\n",
       "      <th>300020</th>\n",
       "      <td>499996</td>\n",
       "      <td>58058</td>\n",
       "    </tr>\n",
       "    <tr>\n",
       "      <th>300021</th>\n",
       "      <td>499997</td>\n",
       "      <td>49597</td>\n",
       "    </tr>\n",
       "    <tr>\n",
       "      <th>300022</th>\n",
       "      <td>499998</td>\n",
       "      <td>40000</td>\n",
       "    </tr>\n",
       "    <tr>\n",
       "      <th>300023</th>\n",
       "      <td>499999</td>\n",
       "      <td>63707</td>\n",
       "    </tr>\n",
       "  </tbody>\n",
       "</table>\n",
       "<p>300024 rows × 2 columns</p>\n",
       "</div>"
      ],
      "text/plain": [
       "        emp_no  salary\n",
       "0        10001   60117\n",
       "1        10002   65828\n",
       "2        10003   40006\n",
       "3        10004   40054\n",
       "4        10005   78228\n",
       "...        ...     ...\n",
       "300019  499995   40000\n",
       "300020  499996   58058\n",
       "300021  499997   49597\n",
       "300022  499998   40000\n",
       "300023  499999   63707\n",
       "\n",
       "[300024 rows x 2 columns]"
      ]
     },
     "execution_count": 43,
     "metadata": {},
     "output_type": "execute_result"
    }
   ],
   "source": [
    "data_emp_sal = pd.read_csv(csv5)\n",
    "data_emp_sal "
   ]
  },
  {
   "cell_type": "code",
   "execution_count": 44,
   "id": "fe52e3b2",
   "metadata": {},
   "outputs": [
    {
     "data": {
      "text/plain": [
       "True"
      ]
     },
     "execution_count": 44,
     "metadata": {},
     "output_type": "execute_result"
    }
   ],
   "source": [
    "# checking if emp_no is unique\n",
    "data_emp_sal[\"emp_no\"].count() == data_emp_sal[\"emp_no\"].nunique()"
   ]
  },
  {
   "cell_type": "code",
   "execution_count": 45,
   "id": "5c7e4e43",
   "metadata": {},
   "outputs": [
    {
     "data": {
      "text/html": [
       "<div>\n",
       "<style scoped>\n",
       "    .dataframe tbody tr th:only-of-type {\n",
       "        vertical-align: middle;\n",
       "    }\n",
       "\n",
       "    .dataframe tbody tr th {\n",
       "        vertical-align: top;\n",
       "    }\n",
       "\n",
       "    .dataframe thead th {\n",
       "        text-align: right;\n",
       "    }\n",
       "</style>\n",
       "<table border=\"1\" class=\"dataframe\">\n",
       "  <thead>\n",
       "    <tr style=\"text-align: right;\">\n",
       "      <th></th>\n",
       "      <th>title_id</th>\n",
       "      <th>title</th>\n",
       "    </tr>\n",
       "  </thead>\n",
       "  <tbody>\n",
       "    <tr>\n",
       "      <th>0</th>\n",
       "      <td>s0001</td>\n",
       "      <td>Staff</td>\n",
       "    </tr>\n",
       "    <tr>\n",
       "      <th>1</th>\n",
       "      <td>s0002</td>\n",
       "      <td>Senior Staff</td>\n",
       "    </tr>\n",
       "    <tr>\n",
       "      <th>2</th>\n",
       "      <td>e0001</td>\n",
       "      <td>Assistant Engineer</td>\n",
       "    </tr>\n",
       "    <tr>\n",
       "      <th>3</th>\n",
       "      <td>e0002</td>\n",
       "      <td>Engineer</td>\n",
       "    </tr>\n",
       "    <tr>\n",
       "      <th>4</th>\n",
       "      <td>e0003</td>\n",
       "      <td>Senior Engineer</td>\n",
       "    </tr>\n",
       "    <tr>\n",
       "      <th>5</th>\n",
       "      <td>e0004</td>\n",
       "      <td>Technique Leader</td>\n",
       "    </tr>\n",
       "    <tr>\n",
       "      <th>6</th>\n",
       "      <td>m0001</td>\n",
       "      <td>Manager</td>\n",
       "    </tr>\n",
       "  </tbody>\n",
       "</table>\n",
       "</div>"
      ],
      "text/plain": [
       "  title_id               title\n",
       "0    s0001               Staff\n",
       "1    s0002        Senior Staff\n",
       "2    e0001  Assistant Engineer\n",
       "3    e0002            Engineer\n",
       "4    e0003     Senior Engineer\n",
       "5    e0004    Technique Leader\n",
       "6    m0001             Manager"
      ]
     },
     "execution_count": 45,
     "metadata": {},
     "output_type": "execute_result"
    }
   ],
   "source": [
    "data_title = pd.read_csv(csv6)\n",
    "data_title"
   ]
  },
  {
   "cell_type": "markdown",
   "id": "29feee3f",
   "metadata": {},
   "source": [
    "## ERD Diagram"
   ]
  },
  {
   "cell_type": "raw",
   "id": "9cfc3d67",
   "metadata": {},
   "source": [
    "\n",
    "Department\n",
    "-\n",
    "dept_no PK string\n",
    "dept_name UNIQUE string\n",
    "\n",
    "\n",
    "Dept_Manager\n",
    "-\n",
    "dept_no string FK - Department.dept_no\n",
    "emp_no PK int\n",
    "\n",
    "\n",
    "Title\n",
    "-\n",
    "title_id PK string\n",
    "title UNIQUE string\n",
    "\n",
    "\n",
    "Employee\n",
    "-\n",
    "emp_no PK int\n",
    "emp_title_id string FK >- Title.title_id\n",
    "birth_date date \n",
    "first_name string\n",
    "last_name string\n",
    "sex char \n",
    "hire_date date\n",
    "\n",
    "\n",
    "Salary\n",
    "-\n",
    "emp_no PK int FK - Employee.emp_no\n",
    "salary money\n",
    "\n",
    "\n",
    "((331603 rows without unique values / PK\n",
    "((emp_no + dept_no = No Duplicated = Composite PKey\n",
    "Dept_Emp\n",
    "-\n",
    "emp_no PK int FK >-< Employee.emp_no\n",
    "dept_no PK string FK >-< Department.dept_no\n"
   ]
  },
  {
   "cell_type": "markdown",
   "id": "cffd1df3",
   "metadata": {},
   "source": [
    "## Create Tables"
   ]
  },
  {
   "cell_type": "raw",
   "id": "cdfbddbe",
   "metadata": {},
   "source": [
    "CREATE TABLE \"department\" (\n",
    "    \"dept_no\" VARCHAR(50)   NOT NULL,\n",
    "    \"dept_name\" VARCHAR(50)   NOT NULL UNIQUE,\n",
    "    PRIMARY KEY (\n",
    "        \"dept_no\"\n",
    "     )\n",
    ");\n",
    "\n",
    "\n",
    "CREATE TABLE \"dept_manager\" (\n",
    "    \"dept_no\" VARCHAR(50)   NOT NULL,\n",
    "    \"emp_no\" INTEGER   NOT NULL,\n",
    "    PRIMARY KEY (\n",
    "        \"emp_no\"\n",
    "     ),\n",
    "    FOREIGN KEY(\"dept_no\") REFERENCES \"department\" (\"dept_no\")\n",
    ");\n",
    "\n",
    "\n",
    "CREATE TABLE \"title\" (\n",
    "    \"title_id\" VARCHAR(50)   NOT NULL,\n",
    "    \"title\" VARCHAR(50)   NOT NULL UNIQUE,\n",
    "    PRIMARY KEY (\n",
    "        \"title_id\"\n",
    "     )\n",
    ");\n",
    "\n",
    "\n",
    "CREATE TABLE \"employee\" (\n",
    "    \"emp_no\" INTEGER   NOT NULL,\n",
    "    \"emp_title_id\" VARCHAR(50)   NOT NULL,\n",
    "    \"birth_date\" DATE   NOT NULL,\n",
    "    \"first_name\" VARCHAR(50)   NOT NULL,\n",
    "    \"last_name\" VARCHAR(50)   NOT NULL,\n",
    "    \"sex\" CHAR   NOT NULL,\n",
    "    \"hire_date\" DATE   NOT NULL,\n",
    "    PRIMARY KEY (\n",
    "        \"emp_no\"\n",
    "     ),\n",
    "    FOREIGN KEY(\"emp_title_id\") REFERENCES \"title\" (\"title_id\")\n",
    ");\n",
    "\n",
    "\n",
    "CREATE TABLE \"salary\" (\n",
    "    \"emp_no\" INTEGER   NOT NULL,\n",
    "    \"salary\" MONEY   NOT NULL,\n",
    "    PRIMARY KEY (\n",
    "        \"emp_no\"\n",
    "     ),\n",
    "    FOREIGN KEY(\"emp_no\") REFERENCES \"employee\" (\"emp_no\")\n",
    ");\n",
    "\n",
    "\n",
    "CREATE TABLE \"dept_emp\" (\n",
    "    \"emp_no\" INTEGER   NOT NULL,\n",
    "    \"dept_no\" VARCHAR(50)   NOT NULL,\n",
    "    PRIMARY KEY (\n",
    "        \"emp_no\",\"dept_no\"\n",
    "     ),\n",
    "     FOREIGN KEY(\"emp_no\") REFERENCES \"employee\" (\"emp_no\"),\n",
    "     FOREIGN KEY(\"dept_no\") REFERENCES \"department\" (\"dept_no\")\n",
    ");"
   ]
  },
  {
   "cell_type": "markdown",
   "id": "cf909c40",
   "metadata": {},
   "source": []
  },
  {
   "cell_type": "code",
   "execution_count": 60,
   "id": "1a4b44dc",
   "metadata": {},
   "outputs": [],
   "source": [
    "from pg_keys import pg_key"
   ]
  },
  {
   "cell_type": "code",
   "execution_count": 61,
   "id": "be13b624",
   "metadata": {},
   "outputs": [],
   "source": [
    "connection_string = (f'postgres:{pg_key}@localhost:5432/employeedb')\n",
    "engine = create_engine(f'postgresql://{connection_string}')"
   ]
  },
  {
   "cell_type": "code",
   "execution_count": 62,
   "id": "38ec75f6",
   "metadata": {},
   "outputs": [
    {
     "name": "stderr",
     "output_type": "stream",
     "text": [
      "C:\\Users\\Didi\\AppData\\Local\\Temp/ipykernel_12584/4162273999.py:1: SADeprecationWarning: The Engine.table_names() method is deprecated and will be removed in a future release.  Please refer to Inspector.get_table_names(). (deprecated since: 1.4)\n",
      "  engine.table_names()\n"
     ]
    },
    {
     "data": {
      "text/plain": [
       "['department', 'dept_manager', 'title', 'employee', 'salary', 'dept_emp']"
      ]
     },
     "execution_count": 62,
     "metadata": {},
     "output_type": "execute_result"
    }
   ],
   "source": [
    "engine.table_names()"
   ]
  },
  {
   "cell_type": "code",
   "execution_count": 63,
   "id": "64af0cd1",
   "metadata": {},
   "outputs": [],
   "source": [
    "## Tables\n",
    "# department, dept_manager, title, employee, salary, dept_emp\n",
    "## DFs\n",
    "# data_dep, data_dept_manager, data_title, data_emp, data_emp_sal, data_emp_dep "
   ]
  },
  {
   "cell_type": "code",
   "execution_count": 64,
   "id": "f61dec85",
   "metadata": {},
   "outputs": [],
   "source": [
    "#data_dep.to_sql(name='department', con=engine, if_exists='append', index=False)"
   ]
  },
  {
   "cell_type": "code",
   "execution_count": 66,
   "id": "b6a6095a",
   "metadata": {},
   "outputs": [],
   "source": [
    "#data_dept_manager.to_sql(name='dept_manager', con=engine, if_exists='append', index=False)"
   ]
  },
  {
   "cell_type": "code",
   "execution_count": 67,
   "id": "f0652d13",
   "metadata": {},
   "outputs": [],
   "source": [
    "#data_title.to_sql(name='title', con=engine, if_exists='append', index=False)"
   ]
  },
  {
   "cell_type": "code",
   "execution_count": 78,
   "id": "b47ec73a",
   "metadata": {},
   "outputs": [],
   "source": [
    "#data_emp.to_sql(name='employee', con=engine, if_exists='append', index=False)"
   ]
  },
  {
   "cell_type": "code",
   "execution_count": 79,
   "id": "77e68718",
   "metadata": {},
   "outputs": [],
   "source": [
    "#data_emp_sal.to_sql(name='salary', con=engine, if_exists='append', index=False)"
   ]
  },
  {
   "cell_type": "code",
   "execution_count": 80,
   "id": "5ca2f369",
   "metadata": {},
   "outputs": [],
   "source": [
    "#data_emp_dep.to_sql(name='dept_emp', con=engine, if_exists='append', index=False)"
   ]
  },
  {
   "cell_type": "markdown",
   "id": "935ac80f",
   "metadata": {},
   "source": [
    "# Analysis"
   ]
  },
  {
   "cell_type": "raw",
   "id": "4c88f610",
   "metadata": {},
   "source": [
    "QUERIES\n",
    "\n",
    "1\n",
    "List the following details of each employee: employee number, last name, first name, sex, and salary.\n",
    "\n",
    "SELECT e.emp_no, last_name, first_name, sex, sa.salary\n",
    "FROM employee as e\n",
    "JOIN salary as sa ON sa.emp_no = e.emp_no\n",
    "\n",
    "\n",
    "2\n",
    "List first name, last name, and hire date for employees who were hired in 1986.\n",
    "\n",
    "SELECT e.first_name, e.last_name, e.hire_date\n",
    "FROM employee as e\n",
    "WHERE e.hire_date BETWEEN '1986-01-01' and '1986-12-31'\n",
    "\n",
    "\n",
    "3\n",
    "List the manager of each department with the following information: department number, department name, the manager's employee number, last name, first name.\n",
    "\n",
    "SELECT man.dept_no, dep.dept_name, man.emp_no, em.last_name, em.first_name\n",
    "FROM dept_manager as man\n",
    "JOIN employee as em ON em.emp_no = man.emp_no\n",
    "JOIN department as dep ON dep.dept_no = man.dept_no\n",
    "\n",
    "\n",
    "4\n",
    "List the department of each employee with the following information: employee number, last name, first name, and department name.\n",
    "\n",
    "SELECT em.emp_no, em.last_name, em.first_name, dep.dept_name\n",
    "FROM employee as em\n",
    "JOIN dept_emp ON dept_emp.emp_no = em.emp_no\n",
    "JOIN department as dep ON dep.dept_no = dept_emp.dept_no\n",
    "\n",
    "\n",
    "5\n",
    "List first name, last name, and sex for employees whose first name is \"Hercules\" and last names begin with \"B.\"\n",
    "\n",
    "SELECT em.first_name, em.last_name, em.sex\n",
    "FROM employee as em\n",
    "WHERE em.first_name = 'Hercules' AND em.last_name LIKE 'B%'\n",
    "\n",
    "\n",
    "6\n",
    "List all employees in the Sales department, including their employee number, last name, first name, and department name.\n",
    "\n",
    "SELECT em.emp_no, em.last_name, em.first_name, dep.dept_name\n",
    "FROM employee as em\n",
    "JOIN dept_emp ON dept_emp.emp_no = em.emp_no\n",
    "JOIN department as dep ON dep.dept_no = dept_emp.dept_no\n",
    "WHERE dep.dept_name = 'Sales'\n",
    "\n",
    "\n",
    "7\n",
    "List all employees in the Sales and Development departments, including their employee number, last name, first name, and department name.\n",
    "\n",
    "SELECT em.emp_no, em.last_name, em.first_name, dep.dept_name\n",
    "FROM employee as em\n",
    "JOIN dept_emp ON dept_emp.emp_no = em.emp_no\n",
    "JOIN department as dep ON dep.dept_no = dept_emp.dept_no\n",
    "WHERE dep.dept_name = 'Sales' OR dep.dept_name = 'Development'\n",
    "\n",
    "\n",
    "8\n",
    "List the frequency count of employee last names (i.e., how many employees share each last name) in descending order.\n",
    "\n",
    "\n"
   ]
  },
  {
   "cell_type": "markdown",
   "id": "4bbdf36f",
   "metadata": {},
   "source": [
    "# Bonus"
   ]
  },
  {
   "cell_type": "code",
   "execution_count": null,
   "id": "2f810a34",
   "metadata": {},
   "outputs": [],
   "source": [
    "pd.read_sql_query('select * from department', con=engine).head()"
   ]
  },
  {
   "cell_type": "code",
   "execution_count": null,
   "id": "cd97a668",
   "metadata": {},
   "outputs": [],
   "source": []
  },
  {
   "cell_type": "code",
   "execution_count": null,
   "id": "24c8d67d",
   "metadata": {},
   "outputs": [],
   "source": []
  }
 ],
 "metadata": {
  "kernelspec": {
   "display_name": "Python 3 (ipykernel)",
   "language": "python",
   "name": "python3"
  },
  "language_info": {
   "codemirror_mode": {
    "name": "ipython",
    "version": 3
   },
   "file_extension": ".py",
   "mimetype": "text/x-python",
   "name": "python",
   "nbconvert_exporter": "python",
   "pygments_lexer": "ipython3",
   "version": "3.9.7"
  }
 },
 "nbformat": 4,
 "nbformat_minor": 5
}
